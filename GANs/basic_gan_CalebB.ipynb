{
 "cells": [
  {
   "cell_type": "code",
   "execution_count": 1,
   "id": "da03237b-025f-4e84-b919-2c75e5b792fd",
   "metadata": {},
   "outputs": [],
   "source": [
    "import torch \n",
    "import torch.nn as nn\n",
    "from torch.utils.data import DataLoader, random_split\n",
    "\n",
    "import torchvision\n",
    "from torchvision import datasets\n",
    "from torchvision.transforms import transforms\n",
    "\n",
    "import pytorch_lightning as pl\n",
    "torch.set_float32_matmul_precision('medium')"
   ]
  },
  {
   "cell_type": "code",
   "execution_count": 2,
   "id": "fc84e7f1-3626-4669-9b73-264805af4bf5",
   "metadata": {},
   "outputs": [],
   "source": [
    "from dotenv import load_dotenv\n",
    "import os\n",
    "\n",
    "DATASET_PATH = os.environ.get('DATASET_PATH',\"./data\")\n",
    "BATCH_SIZE = 512 if torch.cuda.is_available() else 64\n",
    "NUM_WORKERS = int(os.cpu_count() / 2)"
   ]
  },
  {
   "cell_type": "code",
   "execution_count": 3,
   "id": "772bd031-7ca3-4a2a-9763-be545348e283",
   "metadata": {},
   "outputs": [],
   "source": [
    "class MnistDataLoader(pl.LightningDataModule):\n",
    "    def __init__(self,root,batch_size,num_workers):\n",
    "        super(MnistDataLoader,self).__init__()\n",
    "        self.root = root\n",
    "        self.batch_size = batch_size\n",
    "        self.num_workers = num_workers\n",
    "\n",
    "        self.transform = transforms.Compose([\n",
    "            transforms.ToTensor(),\n",
    "            transforms.Normalize((0.1307),(0.3081))\n",
    "        ])\n",
    "        \n",
    "        \n",
    "    def prepare_data(self):\n",
    "        datasets.MNIST(root = self.root,train=True,download=True)\n",
    "        datasets.MNIST(root = self.root,train=False,download=True)\n",
    "\n",
    "    def setup(self, stage):\n",
    "        if stage == \"fit\" or stage is None:\n",
    "            train_dataset = datasets.MNIST(root = self.root,train=True,download=False,transform = self.transform)\n",
    "            \n",
    "            # Define the proportions for the split\n",
    "            train_proportion = 0.8  # 80% for training\n",
    "            val_proportion = 0.2  # 20% for validation\n",
    "    \n",
    "            # Calculate the sizes of training and validation sets based on the proportions\n",
    "            train_size = int(train_proportion * len(train_dataset))\n",
    "            val_size = len(train_dataset) - train_size\n",
    "            \n",
    "            # Use random_split to split the dataset\n",
    "            self.train_dataset, self.val_dataset = torch.utils.data.random_split(train_dataset, [train_size, val_size])\n",
    "        if stage == \"test\" or stage is None:\n",
    "            self.test_dataset =  datasets.MNIST(root = self.root,train=False,download=False,transform = self.transform)\n",
    "            \n",
    "\n",
    "    def train_dataloader(self):\n",
    "        return torch.utils.data.DataLoader(dataset=self.train_dataset,batch_size=self.batch_size,shuffle=True,num_workers=self.num_workers,pin_memory=True)\n",
    "    \n",
    "    def val_dataloader(self):\n",
    "        return torch.utils.data.DataLoader(dataset=self.val_dataset,batch_size=self.batch_size,shuffle=False,num_workers=self.num_workers,pin_memory=True)\n",
    "    \n",
    "    def test_dataloader(self):\n",
    "        return torch.utils.data.DataLoader(dataset=self.test_dataset,batch_size=self.batch_size,shuffle=False,num_workers=self.num_workers,pin_memory=True)\n",
    "   "
   ]
  },
  {
   "cell_type": "code",
   "execution_count": 4,
   "id": "8e4b36fe-0270-4d72-b4c2-c7c2d090ed64",
   "metadata": {},
   "outputs": [],
   "source": [
    "ds = MnistDataLoader(DATASET_PATH,BATCH_SIZE,NUM_WORKERS)"
   ]
  },
  {
   "cell_type": "code",
   "execution_count": 5,
   "id": "cc1f19dc-b5f9-4ce7-887e-c2f8fc7e79da",
   "metadata": {},
   "outputs": [
    {
     "data": {
      "image/png": "[encoded data removed]",
      "text/plain": [
       "<Figure size 1000x400 with 10 Axes>"
      ]
     },
     "metadata": {},
     "output_type": "display_data"
    }
   ],
   "source": [
    "import matplotlib.pyplot as plt\n",
    "\n",
    "# Sanity Check\n",
    "ds.prepare_data()\n",
    "ds.setup('fit')\n",
    "dataloader = ds.train_dataloader()\n",
    "\n",
    "\n",
    "# Create a dictionary to store one image per class\n",
    "class_images = {}\n",
    "\n",
    "# Iterate over the dataset and store one image per class\n",
    "for image, label in ds.train_dataset:\n",
    "    if label not in class_images:\n",
    "        class_images[label] = image\n",
    "        if len(class_images) == 10:  # Stop after storing one image per class\n",
    "            break\n",
    "\n",
    "# Display the images from each class\n",
    "fig, axes = plt.subplots(2, 5, figsize=(10, 4))\n",
    "for i, (label, image) in enumerate(class_images.items()):\n",
    "    ax = axes[i // 5, i % 5]\n",
    "    ax.imshow(image.squeeze(), cmap='gray')\n",
    "    ax.set_title(f\"Class: {label}\")\n",
    "    ax.axis('off')\n",
    "\n",
    "plt.tight_layout()\n",
    "plt.show()"
   ]
  },
  {
   "cell_type": "code",
   "execution_count": 6,
   "id": "132c55eb-9c7a-4071-9822-1fdbf74bb2b3",
   "metadata": {},
   "outputs": [],
   "source": [
    "\n",
    "class Generator(nn.Module):\n",
    "    def __init__(self, latent_dim, img_shape):\n",
    "        super(Generator, self).__init__()\n",
    "\n",
    "        def _block(in_feature, out_feature, normalize=True):\n",
    "            layers = [nn.Linear(in_feature, out_feature)]\n",
    "            if normalize:\n",
    "                layers.append(nn.BatchNorm1d(out_feature,0.8))\n",
    "            layers.append(nn.LeakyReLU(0.01))\n",
    "            return layers\n",
    "\n",
    "        self.g_model = nn.Sequential(\n",
    "            *_block(latent_dim, 128, normalize=False),\n",
    "            *_block(128, 256),\n",
    "            *_block(256, 512),\n",
    "            *_block(512, 1024),\n",
    "            nn.Linear(1024, img_shape),\n",
    "            nn.Tanh()\n",
    "        )\n",
    "\n",
    "    def forward(self, x):\n",
    "        return self.g_model(x)\n"
   ]
  },
  {
   "cell_type": "code",
   "execution_count": 7,
   "id": "20575575-980a-4ef5-a92c-f01d8c8f046c",
   "metadata": {},
   "outputs": [],
   "source": [
    "class Discriminator(nn.Module):\n",
    "    def __init__(self,in_feature):\n",
    "        super(Discriminator, self).__init__()\n",
    "\n",
    "        self.d_model = nn.Sequential(\n",
    "                                 nn.Linear(in_feature,512),\n",
    "                                 nn.LeakyReLU(negative_slope=0.2),\n",
    "                                 nn.Linear(512,256),\n",
    "                                 nn.LeakyReLU(0.2),\n",
    "                                 nn.Linear(256,1),\n",
    "                                 nn.Sigmoid())\n",
    "\n",
    "    def forward(self,x):\n",
    "        return self.d_model(x)"
   ]
  },
  {
   "cell_type": "code",
   "execution_count": 8,
   "id": "70a1e4e2-b666-4fb0-8225-50408da6a354",
   "metadata": {},
   "outputs": [],
   "source": [
    "class GAN(pl.LightningModule):\n",
    "    def __init__(self,latent_dim,img_shape,lr,b1,b2):\n",
    "        super().__init__()\n",
    "\n",
    "        self.save_hyperparameters()\n",
    "\n",
    "        self.generator = Generator(latent_dim,img_shape)\n",
    "        self.discriminator = Discriminator(img_shape)\n",
    "\n",
    "        self.automatic_optimization = False\n",
    "\n",
    "    def forward(self,z):\n",
    "        return self.generator(z)\n",
    "\n",
    "    def adversarial_loss(self,y_hat,y):\n",
    "        return nn.functional.binary_cross_entropy(y_hat,y)\n",
    "\n",
    "    def training_step(self,batch,batch_idx):\n",
    "        imgs, _ = batch \n",
    "\n",
    "        # sample noise \n",
    "        z = torch.randn(imgs.shape[0],self.hparams.latent_dim).type_as(imgs)\n",
    "\n",
    "\n",
    "        # ground truth \n",
    "        label_one = torch.ones(imgs.shape[0],1).type_as(imgs)\n",
    "        label_zero = torch.zeros(imgs.shape[0],1).type_as(imgs)\n",
    "\n",
    "        # Get optimizers\n",
    "        g_opt, d_opt = self.optimizers()\n",
    "\n",
    "        # Train Generator\n",
    "        self.toggle_optimizer(g_opt)\n",
    "\n",
    "        self.generated_img = self(z)\n",
    "\n",
    "        #log \n",
    "        if not batch_idx % 100:\n",
    "            sample_imgs = self.generated_img[:6]\n",
    "            grid = torchvision.utils.make_grid(sample_imgs.view(-1,1,28,28))\n",
    "            self.logger.experiment.add_image('generated_images',grid,self.current_epoch)\n",
    "        \n",
    "        g_loss = self.adversarial_loss(self.discriminator(self.generated_img),label_one)\n",
    "        self.log('g_loss',g_loss,prog_bar=True)\n",
    "\n",
    "        self.manual_backward(g_loss)\n",
    "        g_opt.step()\n",
    "        g_opt.zero_grad()\n",
    "        self.untoggle_optimizer(g_opt)\n",
    "\n",
    "\n",
    "        # Train discriminator\n",
    "        self.toggle_optimizer(d_opt)\n",
    "        # how well it can be label as real\n",
    "        real_loss = self.adversarial_loss(self.discriminator(imgs.view(imgs.shape[0],-1)),label_one)\n",
    "        # how well it can be label as fake\n",
    "        fake_loss = self.adversarial_loss(self.discriminator(self.generated_img.detach()),label_zero)\n",
    "\n",
    "        d_loss = (real_loss + fake_loss)/2\n",
    "        self.log('d_loss',d_loss,prog_bar=True)\n",
    "\n",
    "        self.manual_backward(d_loss)\n",
    "        d_opt.step()\n",
    "        d_opt.zero_grad()\n",
    "        self.untoggle_optimizer(d_loss)\n",
    "\n",
    "\n",
    "    def validation_step(self,batch):\n",
    "        imgs, _ = batch\n",
    "        validation_noise = torch.randn(8,self.hparams.latent_dim).type_as(imgs)\n",
    "                    \n",
    "        #log \n",
    "        sample_imgs = self(validation_noise)\n",
    "        grid = torchvision.utils.make_grid(sample_imgs.view(-1,1,28,28))\n",
    "        self.logger.experiment.add_image('Validation_z',grid,self.current_epoch)\n",
    "        \n",
    "\n",
    "    def configure_optimizers(self):\n",
    "        g_opt = torch.optim.AdamW(self.generator.parameters(),lr=self.hparams.lr, betas=[self.hparams.b1,self.hparams.b2])\n",
    "        d_opt = torch.optim.AdamW(self.discriminator.parameters(),lr=self.hparams.lr, betas=[self.hparams.b1,self.hparams.b2])            \n",
    "            \n",
    "        return [g_opt,d_opt], []\n",
    "    "
   ]
  },
  {
   "cell_type": "code",
   "execution_count": 9,
   "id": "a1ca491a-ebfc-4700-b6b4-213654e44dc3",
   "metadata": {},
   "outputs": [],
   "source": [
    "latent_dim, img_shape, lr, b1, b2 = 100, 1*28*28, 2e-4, 0.5, 0.999\n",
    "model = GAN(latent_dim, img_shape, lr, b1,b2)"
   ]
  },
  {
   "cell_type": "code",
   "execution_count": 10,
   "id": "46d3619c-3d3e-4870-8722-7e1831686d5c",
   "metadata": {},
   "outputs": [],
   "source": [
    "# model = torch.compile(model)"
   ]
  },
  {
   "cell_type": "code",
   "execution_count": null,
   "id": "0bd1bd24-2b35-4912-82c8-567eb4893f85",
   "metadata": {},
   "outputs": [
    {
     "name": "stderr",
     "output_type": "stream",
     "text": [
      "GPU available: True (cuda), used: True\n",
      "TPU available: False, using: 0 TPU cores\n",
      "HPU available: False, using: 0 HPUs\n",
      "LOCAL_RANK: 0 - CUDA_VISIBLE_DEVICES: [0]\n"
     ]
    },
    {
     "data": {
      "application/vnd.jupyter.widget-view+json": {
       "model_id": "",
       "version_major": 2,
       "version_minor": 0
      },
      "text/plain": [
       "Sanity Checking: |                                        | 0/? [00:00<?, ?it/s]"
      ]
     },
     "metadata": {},
     "output_type": "display_data"
    },
    {
     "data": {
      "application/vnd.jupyter.widget-view+json": {
       "model_id": "3b35d242a2de4909955b41008bfc7772",
       "version_major": 2,
       "version_minor": 0
      },
      "text/plain": [
       "Training: |                                               | 0/? [00:00<?, ?it/s]"
      ]
     },
     "metadata": {},
     "output_type": "display_data"
    },
    {
     "data": {
      "application/vnd.jupyter.widget-view+json": {
       "model_id": "",
       "version_major": 2,
       "version_minor": 0
      },
      "text/plain": [
       "Validation: |                                             | 0/? [00:00<?, ?it/s]"
      ]
     },
     "metadata": {},
     "output_type": "display_data"
    },
    {
     "data": {
      "application/vnd.jupyter.widget-view+json": {
       "model_id": "",
       "version_major": 2,
       "version_minor": 0
      },
      "text/plain": [
       "Validation: |                                             | 0/? [00:00<?, ?it/s]"
      ]
     },
     "metadata": {},
     "output_type": "display_data"
    },
    {
     "data": {
      "application/vnd.jupyter.widget-view+json": {
       "model_id": "",
       "version_major": 2,
       "version_minor": 0
      },
      "text/plain": [
       "Validation: |                                             | 0/? [00:00<?, ?it/s]"
      ]
     },
     "metadata": {},
     "output_type": "display_data"
    },
    {
     "data": {
      "application/vnd.jupyter.widget-view+json": {
       "model_id": "",
       "version_major": 2,
       "version_minor": 0
      },
      "text/plain": [
       "Validation: |                                             | 0/? [00:00<?, ?it/s]"
      ]
     },
     "metadata": {},
     "output_type": "display_data"
    },
    {
     "data": {
      "application/vnd.jupyter.widget-view+json": {
       "model_id": "",
       "version_major": 2,
       "version_minor": 0
      },
      "text/plain": [
       "Validation: |                                             | 0/? [00:00<?, ?it/s]"
      ]
     },
     "metadata": {},
     "output_type": "display_data"
    },
    {
     "data": {
      "application/vnd.jupyter.widget-view+json": {
       "model_id": "",
       "version_major": 2,
       "version_minor": 0
      },
      "text/plain": [
       "Validation: |                                             | 0/? [00:00<?, ?it/s]"
      ]
     },
     "metadata": {},
     "output_type": "display_data"
    },
    {
     "data": {
      "application/vnd.jupyter.widget-view+json": {
       "model_id": "",
       "version_major": 2,
       "version_minor": 0
      },
      "text/plain": [
       "Validation: |                                             | 0/? [00:00<?, ?it/s]"
      ]
     },
     "metadata": {},
     "output_type": "display_data"
    },
    {
     "data": {
      "application/vnd.jupyter.widget-view+json": {
       "model_id": "",
       "version_major": 2,
       "version_minor": 0
      },
      "text/plain": [
       "Validation: |                                             | 0/? [00:00<?, ?it/s]"
      ]
     },
     "metadata": {},
     "output_type": "display_data"
    },
    {
     "data": {
      "application/vnd.jupyter.widget-view+json": {
       "model_id": "",
       "version_major": 2,
       "version_minor": 0
      },
      "text/plain": [
       "Validation: |                                             | 0/? [00:00<?, ?it/s]"
      ]
     },
     "metadata": {},
     "output_type": "display_data"
    },
    {
     "data": {
      "application/vnd.jupyter.widget-view+json": {
       "model_id": "",
       "version_major": 2,
       "version_minor": 0
      },
      "text/plain": [
       "Validation: |                                             | 0/? [00:00<?, ?it/s]"
      ]
     },
     "metadata": {},
     "output_type": "display_data"
    },
    {
     "data": {
      "application/vnd.jupyter.widget-view+json": {
       "model_id": "",
       "version_major": 2,
       "version_minor": 0
      },
      "text/plain": [
       "Validation: |                                             | 0/? [00:00<?, ?it/s]"
      ]
     },
     "metadata": {},
     "output_type": "display_data"
    },
    {
     "data": {
      "application/vnd.jupyter.widget-view+json": {
       "model_id": "",
       "version_major": 2,
       "version_minor": 0
      },
      "text/plain": [
       "Validation: |                                             | 0/? [00:00<?, ?it/s]"
      ]
     },
     "metadata": {},
     "output_type": "display_data"
    },
    {
     "data": {
      "application/vnd.jupyter.widget-view+json": {
       "model_id": "",
       "version_major": 2,
       "version_minor": 0
      },
      "text/plain": [
       "Validation: |                                             | 0/? [00:00<?, ?it/s]"
      ]
     },
     "metadata": {},
     "output_type": "display_data"
    },
    {
     "data": {
      "application/vnd.jupyter.widget-view+json": {
       "model_id": "",
       "version_major": 2,
       "version_minor": 0
      },
      "text/plain": [
       "Validation: |                                             | 0/? [00:00<?, ?it/s]"
      ]
     },
     "metadata": {},
     "output_type": "display_data"
    },
    {
     "data": {
      "application/vnd.jupyter.widget-view+json": {
       "model_id": "",
       "version_major": 2,
       "version_minor": 0
      },
      "text/plain": [
       "Validation: |                                             | 0/? [00:00<?, ?it/s]"
      ]
     },
     "metadata": {},
     "output_type": "display_data"
    },
    {
     "data": {
      "application/vnd.jupyter.widget-view+json": {
       "model_id": "",
       "version_major": 2,
       "version_minor": 0
      },
      "text/plain": [
       "Validation: |                                             | 0/? [00:00<?, ?it/s]"
      ]
     },
     "metadata": {},
     "output_type": "display_data"
    }
   ],
   "source": [
    "trainer = pl.Trainer(min_epochs=1,\n",
    "                        max_epochs=2000 ,\n",
    "                        # precision='16-mixed',\n",
    "                        enable_model_summary=False,\n",
    "                        # callbacks=[pl.callbacks.EarlyStopping('d_loss',min_delta=0.0,patience=5)],\n",
    "                        enable_checkpointing  = True,\n",
    "                        log_every_n_steps=10\n",
    "                    )\n",
    "trainer.fit(model,ds)"
   ]
  },
  {
   "cell_type": "code",
   "execution_count": null,
   "id": "7c12b771-5d9d-4140-95d7-26ed2cdaae0f",
   "metadata": {},
   "outputs": [],
   "source": []
  },
  {
   "cell_type": "code",
   "execution_count": null,
   "id": "bdcfd9fe-0b63-400b-99e5-7f233fb1b4e5",
   "metadata": {},
   "outputs": [],
   "source": []
  },
  {
   "cell_type": "code",
   "execution_count": null,
   "id": "3626b950-9399-4172-9422-bd92b191ce00",
   "metadata": {},
   "outputs": [],
   "source": []
  }
 ],
 "metadata": {
  "kernelspec": {
   "display_name": "vision-lab",
   "language": "python",
   "name": "vision"
  },
  "language_info": {
   "codemirror_mode": {
    "name": "ipython",
    "version": 3
   },
   "file_extension": ".py",
   "mimetype": "text/x-python",
   "name": "python",
   "nbconvert_exporter": "python",
   "pygments_lexer": "ipython3",
   "version": "3.12.3"
  }
 },
 "nbformat": 4,
 "nbformat_minor": 5
}
